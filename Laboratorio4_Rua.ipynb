{
  "nbformat": 4,
  "nbformat_minor": 0,
  "metadata": {
    "colab": {
      "provenance": [],
      "gpuType": "T4"
    },
    "kernelspec": {
      "name": "python3",
      "display_name": "Python 3"
    },
    "language_info": {
      "name": "python"
    },
    "accelerator": "GPU"
  },
  "cells": [
    {
      "cell_type": "markdown",
      "source": [
        "# **LABORATORIO 04**\n",
        "Aplicar un Red Neuronal Recurrente, para lograr predecir la calidad del agua, a lo largo de todo el año 2024 y 2025, para lo cual debe investigar:\n",
        " 1. Cuales son los indicadores que se deben considerar para establecer el valor del indice de calidad de agua, considerando los valores que se establecen como limites, generar un dataset sintetico para encarar este problema.\n",
        " 2. Usted debe decidir que modelo de rnn es el mas preciso y justificar detalladamente el por que de su eleccion.\n",
        "\n",
        "No se olvide considerar un conjunto de datos suficiente, que represente varios años, varias temporadas y otros aspectos que usted considere necesario.\n"
      ],
      "metadata": {
        "id": "GkkPQpufXkuU"
      }
    },
    {
      "cell_type": "markdown",
      "source": [
        "# **Elaboración del dataset**"
      ],
      "metadata": {
        "id": "_PprxBJ-X_rB"
      }
    },
    {
      "cell_type": "markdown",
      "source": [
        "Nos basamos en los documentos, analizando las tablas extrajimos los parametros a tomar en cuenta y sus respectivos limites.\n",
        "\n",
        "En base a esos datos generamos datos aleatorios que se mueven entre los limites indicados. Esto para X.\n",
        "\n",
        "En el caso de Y corresponde a un valor entre 0 y 1 (menor a mayor calidad del agua) que se obtiene con una ponderacion de los atributos de X, donde se penaliza si el atributo pasa el limite."
      ],
      "metadata": {
        "id": "vrVKDQDOYEO-"
      }
    },
    {
      "cell_type": "code",
      "execution_count": 2,
      "metadata": {
        "id": "3VWnu4obOL3L"
      },
      "outputs": [],
      "source": [
        "import numpy as np\n",
        "\n",
        "# Definir límites para cada característica\n",
        "limits = {\n",
        "    'Cianuro_libre': 0.2,\n",
        "    'Cromo_+6': 0.1,\n",
        "    'DBO5': 80,\n",
        "    'DQO': 250,\n",
        "    'Hierro': 1,\n",
        "    'pH_min': 6.0,\n",
        "    'pH_max': 9.0,\n",
        "    'Sólidos_Suspendidos_Totales': 60,\n",
        "    'Sulfuros': 2,\n",
        "    'Fenoles': 1,\n",
        "    'Coliformes_Termotolerantes': 1000\n",
        "}\n",
        "\n",
        "# Número de muestras y días\n",
        "num_samples = 100\n",
        "num_days = 10000\n",
        "num_future_days = 365\n",
        "\n",
        "# Inicializar X\n",
        "X = np.zeros((num_samples, num_days, len(limits)))\n",
        "\n",
        "# Crear datos aleatorios para X dentro de los límites\n",
        "for i, (key, limit) in enumerate(limits.items()):\n",
        "    if key in ['pH_min', 'pH_max']:\n",
        "        X[..., i] = np.random.uniform(low=limit - 1.0, high=limit + 1.0, size=(num_samples, num_days))\n",
        "    else:\n",
        "        X[..., i] = np.random.uniform(low=0, high=limit * 2, size=(num_samples, num_days))\n",
        "\n",
        "# Crear Y basado en X, en este caso asumimos una función simple para ilustrar\n",
        "def calculate_quality(x):\n",
        "    # Simple heurística para generar la calidad del agua basada en los límites\n",
        "    quality = 1.0\n",
        "    # Change x.shape[1] to x.shape[0] because x is a 1D array\n",
        "    for i in range(x.shape[0]):  # para cada día\n",
        "        if (x[i] > np.array(list(limits.values()))[i]).any():  # si alguna característica supera el límite\n",
        "            quality -= 0.1  # penalizar calidad\n",
        "    return np.clip(quality, 0, 1)  # asegurar que esté entre 0 y 1\n",
        "\n",
        "# Inicializar Y\n",
        "Y = np.zeros((num_samples, num_future_days))\n",
        "\n",
        "# Calcular calidad para cada muestra\n",
        "for i in range(num_samples):\n",
        "    # Usar la calidad de los días históricos para predecir los días futuros\n",
        "    Y[i] = calculate_quality(X[i, -1, :])  # Usar el último día de los datos históricos para calcular la calidad\n",
        "\n",
        "# Dividir en conjuntos de entrenamiento y prueba\n",
        "from sklearn.model_selection import train_test_split\n",
        "\n",
        "X_train, X_test, Y_train, Y_test = train_test_split(X, Y, test_size=0.2, random_state=42)"
      ]
    },
    {
      "cell_type": "markdown",
      "source": [
        "Se generaron 10000 datos para pruebas que corresponden a los 10000 dias anteriores a la temporada 2024-2025, y 365 dias para test que responden a la temporada 2024-2025 que se va a tratar de predecir"
      ],
      "metadata": {
        "id": "QDQ_uxfsYuZy"
      }
    },
    {
      "cell_type": "code",
      "source": [
        "print(X_train.shape)\n",
        "print(Y_train.shape)\n",
        "print(X_test.shape)\n",
        "print(Y_test.shape)"
      ],
      "metadata": {
        "colab": {
          "base_uri": "https://localhost:8080/"
        },
        "id": "qo6Rb7M0OjQD",
        "outputId": "2c224b26-7fa4-41f6-b327-1cfd9fdb46c1"
      },
      "execution_count": 3,
      "outputs": [
        {
          "output_type": "stream",
          "name": "stdout",
          "text": [
            "(80, 10000, 11)\n",
            "(80, 365)\n",
            "(20, 10000, 11)\n",
            "(20, 365)\n"
          ]
        }
      ]
    },
    {
      "cell_type": "code",
      "source": [
        "print(Y_test[:5])"
      ],
      "metadata": {
        "colab": {
          "base_uri": "https://localhost:8080/"
        },
        "id": "TgH-PaMjQHMp",
        "outputId": "6bfc4561-1949-47dd-bea8-f6b423fb91d5"
      },
      "execution_count": 4,
      "outputs": [
        {
          "output_type": "stream",
          "name": "stdout",
          "text": [
            "[[0.5 0.5 0.5 ... 0.5 0.5 0.5]\n",
            " [0.5 0.5 0.5 ... 0.5 0.5 0.5]\n",
            " [0.4 0.4 0.4 ... 0.4 0.4 0.4]\n",
            " [0.6 0.6 0.6 ... 0.6 0.6 0.6]\n",
            " [0.7 0.7 0.7 ... 0.7 0.7 0.7]]\n"
          ]
        }
      ]
    },
    {
      "cell_type": "code",
      "source": [
        "print(X_test[:5])"
      ],
      "metadata": {
        "colab": {
          "base_uri": "https://localhost:8080/"
        },
        "id": "Re_-Kld6SECJ",
        "outputId": "83e21d8c-7188-47f9-bb2e-0ea34be2035d"
      },
      "execution_count": 5,
      "outputs": [
        {
          "output_type": "stream",
          "name": "stdout",
          "text": [
            "[[[2.58088290e-01 4.41755386e-02 9.75594367e+01 ... 3.91628657e+00\n",
            "   2.75397232e-01 1.46602220e+02]\n",
            "  [1.36259986e-01 1.24252347e-01 7.41593534e+01 ... 3.01896184e+00\n",
            "   1.88303035e-01 1.89053824e+03]\n",
            "  [3.76365788e-01 2.52881902e-02 1.18395518e+02 ... 5.73990859e-01\n",
            "   1.30559568e+00 1.11987729e+03]\n",
            "  ...\n",
            "  [1.96260972e-01 6.32879528e-02 8.10382910e+01 ... 1.92601283e+00\n",
            "   8.20117931e-01 1.67217212e+03]\n",
            "  [2.92072555e-01 1.73124185e-01 1.36767004e+02 ... 4.70972345e-01\n",
            "   5.15255742e-01 1.20712685e+03]\n",
            "  [3.37247957e-01 8.63409752e-02 8.78382339e+01 ... 2.61824319e+00\n",
            "   1.10069356e+00 1.34675406e+03]]\n",
            "\n",
            " [[1.95482490e-01 2.98400311e-02 1.01911317e+02 ... 3.31713732e+00\n",
            "   1.14199459e+00 2.86421653e+02]\n",
            "  [2.55332822e-01 1.53083255e-01 1.07054702e+02 ... 2.70973125e+00\n",
            "   1.94150033e+00 1.45885154e+03]\n",
            "  [1.96458368e-01 1.74149735e-01 9.86318661e+01 ... 1.42346019e+00\n",
            "   1.77007789e+00 1.21275233e+02]\n",
            "  ...\n",
            "  [1.42375781e-01 1.97915570e-01 1.42707848e+02 ... 2.29261721e+00\n",
            "   1.20414890e+00 1.47073011e+03]\n",
            "  [1.92877564e-01 5.84108525e-02 1.05353417e+02 ... 4.94345648e-02\n",
            "   1.49851287e+00 9.45602999e+02]\n",
            "  [1.72155158e-01 6.78201707e-02 8.42373933e+01 ... 1.64313039e+00\n",
            "   1.07098686e+00 1.10933370e+03]]\n",
            "\n",
            " [[1.98074642e-01 6.61127334e-02 7.16358671e+01 ... 2.65175886e+00\n",
            "   1.56807072e+00 1.36317852e+03]\n",
            "  [2.75752741e-01 1.93747745e-01 1.01779227e+01 ... 3.50866640e+00\n",
            "   1.96939665e+00 8.79611747e+02]\n",
            "  [7.46233425e-03 1.36256437e-01 7.33487576e+01 ... 3.40887884e-01\n",
            "   3.19092009e-01 1.61136028e+03]\n",
            "  ...\n",
            "  [1.05250519e-01 1.86625324e-01 6.24327121e+01 ... 2.64973117e+00\n",
            "   1.87711947e+00 1.34228588e+03]\n",
            "  [3.72030557e-01 7.46544301e-02 5.99872653e+01 ... 2.27187843e+00\n",
            "   9.06770788e-01 1.93984405e+03]\n",
            "  [1.62627976e-01 1.32691317e-02 1.49272322e+02 ... 2.62397930e-01\n",
            "   1.00433004e+00 1.01570383e+03]]\n",
            "\n",
            " [[2.29313383e-01 1.87750475e-01 9.72064282e+01 ... 2.72732945e+00\n",
            "   6.21747493e-01 1.34961184e+03]\n",
            "  [3.41102885e-01 1.11943904e-01 1.18943743e+02 ... 2.01121922e+00\n",
            "   7.77855626e-01 8.67486000e+02]\n",
            "  [2.08447559e-01 1.96449538e-01 8.01041866e+01 ... 3.50931878e+00\n",
            "   1.54116534e+00 1.94983091e+03]\n",
            "  ...\n",
            "  [1.03170630e-02 5.42666853e-02 5.00453492e+00 ... 3.15635340e+00\n",
            "   1.56207655e+00 5.33858794e+02]\n",
            "  [3.28195673e-01 1.92846663e-01 1.52656816e+02 ... 1.79420965e+00\n",
            "   4.34110955e-01 1.49272947e+02]\n",
            "  [5.34387258e-02 7.40986801e-02 1.28395342e+02 ... 1.13865596e+00\n",
            "   9.07431299e-01 8.46248739e+02]]\n",
            "\n",
            " [[2.28698003e-01 1.34184908e-01 1.48375596e+02 ... 3.06963677e-01\n",
            "   1.01117150e+00 1.57412697e+03]\n",
            "  [6.65621871e-02 3.91580104e-02 8.19899286e+01 ... 2.65595398e+00\n",
            "   6.77510391e-01 3.28746765e+02]\n",
            "  [2.13125121e-01 1.54976356e-01 1.33511854e+02 ... 1.32649704e+00\n",
            "   6.59314866e-01 9.55097953e+02]\n",
            "  ...\n",
            "  [1.77627076e-01 1.08572189e-02 6.37027723e+00 ... 9.56232802e-01\n",
            "   6.66107217e-02 1.98386209e+01]\n",
            "  [1.12709891e-01 7.81707873e-02 1.21583747e+02 ... 2.62481559e+00\n",
            "   6.91191825e-03 1.22888852e+03]\n",
            "  [1.91257951e-01 2.85767442e-02 1.49224090e+02 ... 9.66881101e-01\n",
            "   8.84052648e-01 5.45265097e+01]]]\n"
          ]
        }
      ]
    },
    {
      "cell_type": "markdown",
      "source": [
        "# **Elección del modelo**"
      ],
      "metadata": {
        "id": "lCFxBPn3ZuL3"
      }
    },
    {
      "cell_type": "markdown",
      "source": [
        "El modelo escogido es el LSTM, ya que suaviza el problema de un rnn normal, que es que no puede manterner las dependencias a largo plazo, debido a que los gradientes se hacen muy pequeños o muy grandes. El LSTM soluciona esto, ya que:\n",
        "a) Usa dos conjuntos distintos de valores en las capas ocultas. (h y c).\n",
        "b) Usa distintas puertas para controlar el flujo de información."
      ],
      "metadata": {
        "id": "1jXtw9VRZBfb"
      }
    },
    {
      "cell_type": "markdown",
      "source": [
        "Se multiplica X por H, pero ahora tenemos distintas matrices de pesos para cada una de las puertas.\n",
        "Tras calcular Wxi X + Whi h aplicamos la función de activación sigmoide para el flujo de las puertas f, i, o. F controla cuanta info pasa a long term,c, debe olvidarse. La puerta I controla cuanta info nueva entra a long term, c. Y O controla la info que pasa a short-term h."
      ],
      "metadata": {
        "id": "1cbVV19aZ3XD"
      }
    },
    {
      "cell_type": "code",
      "source": [
        "import torch\n",
        "import torch.nn as nn\n",
        "\n",
        "class LSTMModel(nn.Module):\n",
        "    def __init__(self, input_size, hidden_size, output_size, num_layers=5, dropout=0.3):\n",
        "        super(LSTMModel, self).__init__()\n",
        "        self.lstm = nn.LSTM(input_size=input_size, hidden_size=hidden_size, num_layers=num_layers,\n",
        "                            dropout=dropout, batch_first=True, bidirectional=True)\n",
        "        self.fc = nn.Linear(hidden_size * 2, output_size)  # *2 because of bidirectional\n",
        "\n",
        "    def forward(self, x):\n",
        "        out, _ = self.lstm(x)\n",
        "        out = self.fc(out[:, -1, :])\n",
        "        return out\n",
        "\n",
        "# Crear el modelo\n",
        "input_size = 11  # Número de características\n",
        "hidden_size = 64  # Tamaño del estado oculto\n",
        "output_size = 365  # Número de días futuros\n",
        "model = LSTMModel(input_size, hidden_size, output_size)"
      ],
      "metadata": {
        "id": "zXB-wlpXOxbk"
      },
      "execution_count": 6,
      "outputs": []
    },
    {
      "cell_type": "markdown",
      "source": [
        "# **Arquitectura del modelo**"
      ],
      "metadata": {
        "id": "1uJ1N_nQajXR"
      }
    },
    {
      "cell_type": "markdown",
      "source": [
        "\n",
        "\n",
        "1. **Capa LSTM**:\n",
        "   - **Número de Características de Entrada (`input_size`)**: 11. Esto significa que cada entrada a la LSTM tiene 11 características.\n",
        "   - **Número de Unidades Ocultas (`hidden_size`)**: 64. Cada celda LSTM tiene 64 unidades que representan el estado interno de la red.\n",
        "   - **Número de Capas LSTM (`num_layers`)**: 5. El modelo utiliza 5 capas LSTM apiladas para capturar características complejas en la secuencia de datos.\n",
        "   - **Bidireccionalidad**: El modelo es bidireccional, lo que significa que las secuencias se procesan en ambas direcciones (del pasado al futuro y del futuro al pasado). Esto duplica el tamaño del estado oculto en la salida de la LSTM.\n",
        "   - **Dropout**: 0.3. Se aplica una tasa de dropout del 30% durante el entrenamiento para evitar el sobreajuste.\n",
        "\n",
        "2. **Capa Fully Connected (fc)**:\n",
        "   - **Número de Unidades de Entrada**: `hidden_size * 2` (128) debido a la bidireccionalidad de la LSTM.\n",
        "   - **Número de Unidades de Salida (`output_size`)**: 365. Esta capa toma la salida de la LSTM y la convierte en una predicción para los 365 días futuros.\n"
      ],
      "metadata": {
        "id": "1Z4JbtIwapdf"
      }
    },
    {
      "cell_type": "code",
      "source": [
        "# Configurar dispositivo\n",
        "device = torch.device('cuda' if torch.cuda.is_available() else 'cpu')\n",
        "model.to(device)"
      ],
      "metadata": {
        "colab": {
          "base_uri": "https://localhost:8080/"
        },
        "id": "wGrh9icvPTVr",
        "outputId": "e1d374b0-1c47-45f6-cb4e-aaeca22448a9"
      },
      "execution_count": 7,
      "outputs": [
        {
          "output_type": "execute_result",
          "data": {
            "text/plain": [
              "LSTMModel(\n",
              "  (lstm): LSTM(11, 64, num_layers=5, batch_first=True, dropout=0.3, bidirectional=True)\n",
              "  (fc): Linear(in_features=128, out_features=365, bias=True)\n",
              ")"
            ]
          },
          "metadata": {},
          "execution_count": 7
        }
      ]
    },
    {
      "cell_type": "code",
      "source": [
        "#importar el optimizer\n",
        "import torch.optim as optim"
      ],
      "metadata": {
        "id": "o_CdNLqePYb-"
      },
      "execution_count": 8,
      "outputs": []
    },
    {
      "cell_type": "code",
      "source": [
        "# Función de pérdida y optimizador\n",
        "criterion = nn.MSELoss()\n",
        "optimizer = optim.Adam(model.parameters(), lr=0.001)"
      ],
      "metadata": {
        "id": "SjvP-WHnPhtb"
      },
      "execution_count": 9,
      "outputs": []
    },
    {
      "cell_type": "code",
      "source": [
        "from torch.optim.lr_scheduler import ReduceLROnPlateau\n",
        "\n",
        "# Configurar Early Stopping y Learning Rate Scheduler\n",
        "scheduler = ReduceLROnPlateau(optimizer, mode='min', factor=0.1, patience=5, verbose=True)\n",
        "\n",
        "# Convertir datos a tensores\n",
        "X_train_tensor = torch.tensor(X_train, dtype=torch.float32).to(device)\n",
        "Y_train_tensor = torch.tensor(Y_train, dtype=torch.float32).to(device)"
      ],
      "metadata": {
        "colab": {
          "base_uri": "https://localhost:8080/"
        },
        "id": "dZH1-EOpSxwe",
        "outputId": "877a7073-b741-4ad7-ad19-7909184a334a"
      },
      "execution_count": 10,
      "outputs": [
        {
          "output_type": "stream",
          "name": "stderr",
          "text": [
            "/usr/local/lib/python3.10/dist-packages/torch/optim/lr_scheduler.py:60: UserWarning: The verbose parameter is deprecated. Please use get_last_lr() to access the learning rate.\n",
            "  warnings.warn(\n"
          ]
        }
      ]
    },
    {
      "cell_type": "markdown",
      "source": [
        "# **Entrenamiento del modelo**"
      ],
      "metadata": {
        "id": "WJ9q_HfHa_N3"
      }
    },
    {
      "cell_type": "markdown",
      "source": [
        "\n",
        "\n",
        "1. **Preparación de Datos**:\n",
        "   - Se utiliza un `DataLoader` para manejar los datos de entrenamiento. Este `DataLoader` divide los datos en lotes (`batch_size = 16` en este caso) y los baraja (`shuffle=True`) para mejorar la generalización del modelo.\n",
        "\n",
        "2. **Bucle de Entrenamiento**:\n",
        "   - **Número de Épocas (`num_epochs`)**: 100. El modelo se entrena durante 100 iteraciones sobre todo el conjunto de datos.\n",
        "   - **Iteración sobre Lotes**:\n",
        "     - **Entrada y Salida del Lote**: Para cada lote en el `DataLoader`, se obtienen las características de entrada (`batch_X`) y las etiquetas (`batch_Y`).\n",
        "     - **Transferencia al Dispositivo**: Los datos del lote se trasladan al dispositivo (GPU o CPU).\n",
        "     - **Cálculo de Predicciones**: El modelo realiza predicciones para el lote de datos.\n",
        "     - **Cálculo de Pérdida**: Se calcula la pérdida entre las predicciones y las etiquetas reales usando la función de pérdida (`criterion`).\n",
        "     - **Actualización de Gradientes**: Se realiza el retropropagación de la pérdida para calcular los gradientes.\n",
        "     - **Optimización**: Los parámetros del modelo se actualizan usando el optimizador (`optimizer`).\n",
        "   \n",
        "3. **Actualización del Scheduler**:\n",
        "   - **Scheduler**: Se ajusta el learning rate usando un `ReduceLROnPlateau`, que reduce la tasa de aprendizaje si la pérdida no mejora durante un número de épocas (`patience`).\n",
        "\n",
        "4. **Impresión de Resultados**:\n",
        "   - Cada 10 épocas, se imprime la pérdida (`loss`) para monitorear el progreso del entrenamiento.\n"
      ],
      "metadata": {
        "id": "j9goc-eubH8s"
      }
    },
    {
      "cell_type": "code",
      "source": [
        "# Supongamos que tienes un DataLoader para el entrenamiento\n",
        "from torch.utils.data import DataLoader, TensorDataset\n",
        "\n",
        "# Crear el DataLoader con un tamaño de lote más pequeño\n",
        "batch_size = 16  # Ajusta este valor según la memoria disponible\n",
        "train_dataset = TensorDataset(X_train_tensor, Y_train_tensor)\n",
        "train_loader = DataLoader(train_dataset, batch_size=batch_size, shuffle=True)\n",
        "\n",
        "# Modificar el bucle de entrenamiento para usar DataLoader\n",
        "num_epochs = 100\n",
        "for epoch in range(num_epochs):\n",
        "    model.train()\n",
        "    for batch_X, batch_Y in train_loader:\n",
        "        batch_X, batch_Y = batch_X.to(device), batch_Y.to(device)\n",
        "        optimizer.zero_grad()\n",
        "        outputs = model(batch_X)\n",
        "        loss = criterion(outputs, batch_Y)\n",
        "        loss.backward()\n",
        "        optimizer.step()\n",
        "\n",
        "    # Actualizar el scheduler\n",
        "    scheduler.step(loss.item())\n",
        "\n",
        "    if (epoch + 1) % 10 == 0:  # Imprimir cada 10 épocas\n",
        "        print(f'Epoch [{epoch+1}/{num_epochs}], Loss: {loss.item():.4f}')\n"
      ],
      "metadata": {
        "colab": {
          "base_uri": "https://localhost:8080/"
        },
        "id": "wurWA98bPB7P",
        "outputId": "6037325e-3b13-46ce-8af2-124c13db6c8c"
      },
      "execution_count": 11,
      "outputs": [
        {
          "output_type": "stream",
          "name": "stdout",
          "text": [
            "Epoch [10/100], Loss: 0.0299\n",
            "Epoch [20/100], Loss: 0.0329\n",
            "Epoch [30/100], Loss: 0.0301\n",
            "Epoch [40/100], Loss: 0.0203\n",
            "Epoch [50/100], Loss: 0.0381\n",
            "Epoch [60/100], Loss: 0.0193\n",
            "Epoch [70/100], Loss: 0.0363\n",
            "Epoch [80/100], Loss: 0.0194\n",
            "Epoch [90/100], Loss: 0.0260\n",
            "Epoch [100/100], Loss: 0.0321\n"
          ]
        }
      ]
    },
    {
      "cell_type": "code",
      "source": [
        "# Convertir datos de prueba a tensores\n",
        "X_test_tensor = torch.tensor(X_test, dtype=torch.float32).to(device)\n",
        "Y_test_tensor = torch.tensor(Y_test, dtype=torch.float32).to(device)\n",
        "\n",
        "model.eval()\n",
        "with torch.no_grad():\n",
        "    predictions = model(X_test_tensor)\n",
        "    test_loss = criterion(predictions, Y_test_tensor)\n",
        "    print(f'Test Loss: {test_loss.item():.4f}')"
      ],
      "metadata": {
        "colab": {
          "base_uri": "https://localhost:8080/"
        },
        "id": "9GRbKrJMO83J",
        "outputId": "dc172037-b1ea-4454-9d6b-be088e826620"
      },
      "execution_count": 12,
      "outputs": [
        {
          "output_type": "stream",
          "name": "stdout",
          "text": [
            "Test Loss: 0.0276\n"
          ]
        }
      ]
    },
    {
      "cell_type": "code",
      "source": [
        "print(Y_test.shape)"
      ],
      "metadata": {
        "colab": {
          "base_uri": "https://localhost:8080/"
        },
        "id": "WF9C-jBdVR8q",
        "outputId": "7a67b61d-111b-45ef-c2fb-dad074b7796f"
      },
      "execution_count": 13,
      "outputs": [
        {
          "output_type": "stream",
          "name": "stdout",
          "text": [
            "(20, 365)\n"
          ]
        }
      ]
    },
    {
      "cell_type": "code",
      "source": [
        "# Supongamos que ya has definido estas variables en tu código\n",
        "n_steps = 365  # El número de pasos en el pasado que se usa para las predicciones\n",
        "n_predictions = 365  # El número de pasos futuros que estamos prediciendo"
      ],
      "metadata": {
        "id": "vlOsYVB1VJls"
      },
      "execution_count": 14,
      "outputs": []
    },
    {
      "cell_type": "markdown",
      "source": [
        "# **Predicción de la calidad del agua para 2024-2025**"
      ],
      "metadata": {
        "id": "t78zYn5zbOW8"
      }
    },
    {
      "cell_type": "code",
      "source": [
        "import matplotlib.pyplot as plt\n",
        "import numpy as np\n",
        "\n",
        "def plot_predictions_vs_actuals(y_true, y_pred, n_steps, n_predictions):\n",
        "    \"\"\"\n",
        "    Función para graficar las predicciones y los valores reales.\n",
        "    :param y_true: Valores reales (array de numpy).\n",
        "    :param y_pred: Predicciones del modelo (array de numpy).\n",
        "    :param n_steps: Número de pasos pasados.\n",
        "    :param n_predictions: Número de pasos futuros predichos.\n",
        "    \"\"\"\n",
        "    # Plotear los valores reales y las predicciones\n",
        "    plt.figure(figsize=(14, 7))\n",
        "\n",
        "    # Graficar los valores reales\n",
        "    plt.plot(y_true, label='Valores Reales', color='blue', linestyle='-', marker='o', markersize=5)\n",
        "\n",
        "    # Graficar las predicciones\n",
        "    plt.plot(y_pred, label='Predicciones', color='red', linestyle='--', marker='x', markersize=5)\n",
        "\n",
        "    # Configurar etiquetas y leyenda\n",
        "    plt.xlabel('Tiempo')\n",
        "    plt.ylabel('Precio')\n",
        "    plt.title('Valores Reales vs Predicciones')\n",
        "    plt.legend()\n",
        "    plt.grid(True)\n",
        "    plt.show()\n",
        "\n",
        "# Convertir datos de prueba a numpy arrays si aún no lo has hecho\n",
        "Y_test_np = Y_test_tensor.cpu().numpy().flatten()\n",
        "predictions_np = predictions.cpu().numpy().flatten()\n",
        "\n",
        "# Graficar\n",
        "plot_predictions_vs_actuals(Y_test_np, predictions_np, n_steps, n_predictions)\n"
      ],
      "metadata": {
        "colab": {
          "base_uri": "https://localhost:8080/",
          "height": 468
        },
        "id": "7Ht2sJejUbep",
        "outputId": "695a49c0-8fed-4dc1-cdbe-6230e99dba3c"
      },
      "execution_count": 15,
      "outputs": [
        {
          "output_type": "display_data",
          "data": {
            "text/plain": [
              "<Figure size 1400x700 with 1 Axes>"
            ],
            "image/png": "[encoded data removed]"
          },
          "metadata": {}
        }
      ]
    },
    {
      "cell_type": "code",
      "source": [
        "# Imprimir los primeros cinco valores reales y las primeras cinco predicciones\n",
        "print(\"Primeros cinco valores reales:\")\n",
        "print(Y_test_np[:5])\n",
        "\n",
        "print(\"Primeros cinco valores predichos:\")\n",
        "print(predictions_np[:5])"
      ],
      "metadata": {
        "colab": {
          "base_uri": "https://localhost:8080/"
        },
        "id": "fUuqK22IWOMd",
        "outputId": "ac7adc82-be70-41c4-8012-bdb99000179f"
      },
      "execution_count": 16,
      "outputs": [
        {
          "output_type": "stream",
          "name": "stdout",
          "text": [
            "Primeros cinco valores reales:\n",
            "[0.5 0.5 0.5 0.5 0.5]\n",
            "Primeros cinco valores predichos:\n",
            "[0.47149223 0.47267675 0.47601396 0.47200352 0.46969354]\n"
          ]
        }
      ]
    },
    {
      "cell_type": "code",
      "source": [
        "import numpy as np\n",
        "\n",
        "# Configura la semilla para que los resultados sean reproducibles\n",
        "np.random.seed(42)\n",
        "\n",
        "# Número de muestras aleatorias que deseas imprimir\n",
        "num_samples = 10\n",
        "\n",
        "# Seleccionar índices aleatorios\n",
        "indices = np.random.choice(len(Y_test_np), num_samples, replace=False)\n",
        "\n",
        "# Imprimir los valores seleccionados\n",
        "print(\"Tomamos al azar cinco valores reales:\")\n",
        "print(Y_test_np[indices])\n",
        "\n",
        "print(\"Sus predicciones correspondientes cinco valores predichos:\")\n",
        "print(predictions_np[indices])"
      ],
      "metadata": {
        "colab": {
          "base_uri": "https://localhost:8080/"
        },
        "id": "D3SYTKZzWpbc",
        "outputId": "d99fcd31-94f6-4959-8293-36bd01e7b4ed"
      },
      "execution_count": 18,
      "outputs": [
        {
          "output_type": "stream",
          "name": "stdout",
          "text": [
            "Tomamos al azar cinco valores reales:\n",
            "[0.4 0.2 0.4 0.2 0.7 0.4 0.2 0.5 0.4 0.6]\n",
            "Sus predicciones correspondientes cinco valores predichos:\n",
            "[0.47218502 0.47094756 0.46526387 0.4678756  0.46351904 0.46158615\n",
            " 0.47313905 0.4631998  0.46509022 0.47011146]\n"
          ]
        }
      ]
    },
    {
      "cell_type": "code",
      "source": [
        "import numpy as np\n",
        "\n",
        "# Convertir datos de prueba a numpy arrays si aún no lo has hecho\n",
        "Y_test_np = Y_test_tensor.cpu().numpy().flatten()\n",
        "predictions_np = predictions.cpu().numpy().flatten()\n",
        "\n",
        "# Calcular el Error Absoluto Medio (MAE)\n",
        "mae = np.mean(np.abs(Y_test_np - predictions_np))\n",
        "\n",
        "# Calcular el rango de los valores reales\n",
        "range_y = np.max(Y_test_np) - np.min(Y_test_np)\n",
        "\n",
        "# Calcular el porcentaje de precisión\n",
        "percentage_precision = 100 - (mae / range_y * 100)\n",
        "\n",
        "print(f'MAE: {mae:.4f}')\n",
        "print(f'Rango de valores reales: {range_y:.4f}')\n",
        "print(f'Porcentaje de Precisión: {percentage_precision:.2f}%')\n"
      ],
      "metadata": {
        "colab": {
          "base_uri": "https://localhost:8080/"
        },
        "id": "c9iQlA_1XMNZ",
        "outputId": "778b9e5e-1d2f-4c32-a37e-d3b808755fb9"
      },
      "execution_count": 19,
      "outputs": [
        {
          "output_type": "stream",
          "name": "stdout",
          "text": [
            "MAE: 0.1382\n",
            "Rango de valores reales: 0.6000\n",
            "Porcentaje de Precisión: 76.96%\n"
          ]
        }
      ]
    },
    {
      "cell_type": "markdown",
      "source": [
        "# **Conclusiones**"
      ],
      "metadata": {
        "id": "uGXbyTxrbWOZ"
      }
    },
    {
      "cell_type": "markdown",
      "source": [
        "- A pesar de tener una pérdida muy baja en el entrenamiento, el modelo tiene problemas para predecir conforme avanza el tiempo.\n",
        "\n",
        "- La presición de 76 % es un poco engañosa, puesto que como los resultados de la predicción son parecidos entre todos, los de los datos reales varian mucho, eso no se capta en la predicción"
      ],
      "metadata": {
        "id": "MC_jClgrbYxT"
      }
    }
  ]
}